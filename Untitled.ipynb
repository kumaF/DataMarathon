{
 "cells": [
  {
   "cell_type": "code",
   "execution_count": 1,
   "metadata": {},
   "outputs": [],
   "source": [
    "import pandas as pd \n",
    "import numpy as np\n",
    "import matplotlib.pyplot as plt\n",
    "import tensorflow as tf \n",
    "from sklearn.model_selection import train_test_split\n",
    "from sklearn.cluster import k_means"
   ]
  },
  {
   "cell_type": "code",
   "execution_count": 2,
   "metadata": {},
   "outputs": [],
   "source": [
    "#importing the data sets\n",
    "retailer_data = pd.DataFrame(pd.read_csv('Retailer.csv'))\n",
    "product_data = pd.DataFrame(pd.read_csv('Product.csv'))\n",
    "sales_data1 = pd.DataFrame(pd.read_csv('File 01 - Sales Data.csv'))\n",
    "sales_data2 = pd.DataFrame(pd.read_csv('File 02 - Sales Data.csv'))"
   ]
  },
  {
   "cell_type": "code",
   "execution_count": 6,
   "metadata": {},
   "outputs": [],
   "source": [
    "#merge sales_data1 & sales_data2\n",
    "df = [ sales_data1, sales_data2]\n",
    "data = pd.DataFrame(pd.concat(df)).sort_values(by=['Date'], ascending=False)"
   ]
  },
  {
   "cell_type": "code",
   "execution_count": 7,
   "metadata": {},
   "outputs": [
    {
     "name": "stdout",
     "output_type": "stream",
     "text": [
      "<class 'pandas.core.frame.DataFrame'>\n",
      "Int64Index: 1137470 entries, 513320 to 119053\n",
      "Data columns (total 8 columns):\n",
      "Retailer Code         1137470 non-null object\n",
      "Rep                   1137470 non-null object\n",
      "Product Code          1137470 non-null int64\n",
      "Date                  1137470 non-null object\n",
      "Net Sales Qty         1137470 non-null int64\n",
      "Net Sales Value       1137470 non-null float64\n",
      "Sales Return Qty      1137470 non-null int64\n",
      "Sales Return Value    1137470 non-null float64\n",
      "dtypes: float64(2), int64(3), object(3)\n",
      "memory usage: 78.1+ MB\n",
      "None\n"
     ]
    }
   ],
   "source": [
    "print(data.info())"
   ]
  },
  {
   "cell_type": "code",
   "execution_count": 8,
   "metadata": {},
   "outputs": [
    {
     "name": "stdout",
     "output_type": "stream",
     "text": [
      "<class 'pandas.core.frame.DataFrame'>\n",
      "RangeIndex: 6118 entries, 0 to 6117\n",
      "Data columns (total 5 columns):\n",
      "Retailer Code       6110 non-null object\n",
      "Sub Ret Cat Name    5872 non-null object\n",
      "Zone Name           6110 non-null object\n",
      "Region Name         6110 non-null object\n",
      "Territory Name      6118 non-null object\n",
      "dtypes: object(5)\n",
      "memory usage: 239.1+ KB\n",
      "None\n"
     ]
    }
   ],
   "source": [
    "print(retailer_data.info())"
   ]
  },
  {
   "cell_type": "code",
   "execution_count": 9,
   "metadata": {},
   "outputs": [
    {
     "name": "stdout",
     "output_type": "stream",
     "text": [
      "<class 'pandas.core.frame.DataFrame'>\n",
      "RangeIndex: 457 entries, 0 to 456\n",
      "Data columns (total 5 columns):\n",
      "Product Code               457 non-null int64\n",
      "Product Description        457 non-null object\n",
      "Product Group Name         457 non-null object\n",
      "Brand Name                 457 non-null object\n",
      "Sub Product Description    457 non-null object\n",
      "dtypes: int64(1), object(4)\n",
      "memory usage: 17.9+ KB\n",
      "None\n"
     ]
    }
   ],
   "source": [
    "print(product_data.info())"
   ]
  },
  {
   "cell_type": "code",
   "execution_count": 19,
   "metadata": {},
   "outputs": [
    {
     "name": "stdout",
     "output_type": "stream",
     "text": [
      "              Net Sales Qty  Net Sales Value  Sales Return Qty  \\\n",
      "Product Code                                                     \n",
      "500003                  925        153057.56                51   \n",
      "500004                 1344        347075.10                63   \n",
      "500031                    2           161.44                20   \n",
      "500034                  395        156600.55                33   \n",
      "500047                   51          3201.78                33   \n",
      "\n",
      "              Sales Return Value  \n",
      "Product Code                      \n",
      "500003                   8255.07  \n",
      "500004                  16154.04  \n",
      "500031                   1614.40  \n",
      "500034                  13116.28  \n",
      "500047                   2071.74  \n"
     ]
    }
   ],
   "source": [
    "prod = data.groupby(data['Product Code']).sum()\n",
    "print(prod.head())"
   ]
  },
  {
   "cell_type": "code",
   "execution_count": null,
   "metadata": {},
   "outputs": [],
   "source": []
  }
 ],
 "metadata": {
  "kernelspec": {
   "display_name": "Python 3",
   "language": "python",
   "name": "python3"
  },
  "language_info": {
   "codemirror_mode": {
    "name": "ipython",
    "version": 3
   },
   "file_extension": ".py",
   "mimetype": "text/x-python",
   "name": "python",
   "nbconvert_exporter": "python",
   "pygments_lexer": "ipython3",
   "version": "3.6.5"
  }
 },
 "nbformat": 4,
 "nbformat_minor": 2
}
