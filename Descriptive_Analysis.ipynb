{
 "cells": [
  {
   "cell_type": "markdown",
   "metadata": {},
   "source": [
    "# Pre Analysis"
   ]
  },
  {
   "cell_type": "code",
   "execution_count": 1,
   "metadata": {},
   "outputs": [],
   "source": [
    "import numpy as np\n",
    "import pandas as pd\n",
    "import scipy as sp\n",
    "import matplotlib.pyplot as plt\n",
    "import glob\n",
    "%matplotlib inline"
   ]
  },
  {
   "cell_type": "code",
   "execution_count": 2,
   "metadata": {},
   "outputs": [],
   "source": [
    "#importing the data sets\n",
    "retailer_data = pd.DataFrame(pd.read_csv('Retailer.csv'))\n",
    "product_data = pd.DataFrame(pd.read_csv('Product.csv'))\n",
    "sales_data1 = pd.DataFrame(pd.read_csv('File 01 - Sales Data.csv'))\n",
    "sales_data2 = pd.DataFrame(pd.read_csv('File 02 - Sales Data.csv'))"
   ]
  },
  {
   "cell_type": "code",
   "execution_count": 3,
   "metadata": {},
   "outputs": [],
   "source": [
    "#merge sales_data1 & sales_data2\n",
    "df = [ sales_data1, sales_data2]\n",
    "data = pd.DataFrame(pd.concat(df)).sort_values(by=['Date'], ascending=False)"
   ]
  },
  {
   "cell_type": "markdown",
   "metadata": {},
   "source": [
    "### Sales Data"
   ]
  },
  {
   "cell_type": "code",
   "execution_count": 4,
   "metadata": {},
   "outputs": [
    {
     "data": {
      "text/html": [
       "<div>\n",
       "<style scoped>\n",
       "    .dataframe tbody tr th:only-of-type {\n",
       "        vertical-align: middle;\n",
       "    }\n",
       "\n",
       "    .dataframe tbody tr th {\n",
       "        vertical-align: top;\n",
       "    }\n",
       "\n",
       "    .dataframe thead th {\n",
       "        text-align: right;\n",
       "    }\n",
       "</style>\n",
       "<table border=\"1\" class=\"dataframe\">\n",
       "  <thead>\n",
       "    <tr style=\"text-align: right;\">\n",
       "      <th></th>\n",
       "      <th>Retailer Code</th>\n",
       "      <th>Rep</th>\n",
       "      <th>Product Code</th>\n",
       "      <th>Date</th>\n",
       "      <th>Net Sales Qty</th>\n",
       "      <th>Net Sales Value</th>\n",
       "      <th>Sales Return Qty</th>\n",
       "      <th>Sales Return Value</th>\n",
       "    </tr>\n",
       "  </thead>\n",
       "  <tbody>\n",
       "    <tr>\n",
       "      <th>513320</th>\n",
       "      <td>WADU0118</td>\n",
       "      <td>WADDUWA - R1</td>\n",
       "      <td>501480</td>\n",
       "      <td>Wednesday, September 26 2012</td>\n",
       "      <td>3</td>\n",
       "      <td>201.78</td>\n",
       "      <td>0</td>\n",
       "      <td>0.0</td>\n",
       "    </tr>\n",
       "    <tr>\n",
       "      <th>116823</th>\n",
       "      <td>DEMA0349</td>\n",
       "      <td>DEMATAGODA - R1</td>\n",
       "      <td>501467</td>\n",
       "      <td>Wednesday, September 26 2012</td>\n",
       "      <td>2</td>\n",
       "      <td>340.62</td>\n",
       "      <td>0</td>\n",
       "      <td>0.0</td>\n",
       "    </tr>\n",
       "    <tr>\n",
       "      <th>116945</th>\n",
       "      <td>DEMA0349</td>\n",
       "      <td>DEMATAGODA - R1</td>\n",
       "      <td>501765</td>\n",
       "      <td>Wednesday, September 26 2012</td>\n",
       "      <td>3</td>\n",
       "      <td>594.06</td>\n",
       "      <td>0</td>\n",
       "      <td>0.0</td>\n",
       "    </tr>\n",
       "    <tr>\n",
       "      <th>360346</th>\n",
       "      <td>KADU0308</td>\n",
       "      <td>KADUWELA - R1</td>\n",
       "      <td>501480</td>\n",
       "      <td>Wednesday, September 26 2012</td>\n",
       "      <td>6</td>\n",
       "      <td>403.56</td>\n",
       "      <td>0</td>\n",
       "      <td>0.0</td>\n",
       "    </tr>\n",
       "    <tr>\n",
       "      <th>142539</th>\n",
       "      <td>HANW0168</td>\n",
       "      <td>HANWELLA - R1</td>\n",
       "      <td>500137</td>\n",
       "      <td>Wednesday, September 26 2012</td>\n",
       "      <td>1</td>\n",
       "      <td>108.01</td>\n",
       "      <td>0</td>\n",
       "      <td>0.0</td>\n",
       "    </tr>\n",
       "  </tbody>\n",
       "</table>\n",
       "</div>"
      ],
      "text/plain": [
       "       Retailer Code              Rep  Product Code  \\\n",
       "513320      WADU0118     WADDUWA - R1        501480   \n",
       "116823      DEMA0349  DEMATAGODA - R1        501467   \n",
       "116945      DEMA0349  DEMATAGODA - R1        501765   \n",
       "360346      KADU0308    KADUWELA - R1        501480   \n",
       "142539      HANW0168    HANWELLA - R1        500137   \n",
       "\n",
       "                                Date  Net Sales Qty  Net Sales Value  \\\n",
       "513320  Wednesday, September 26 2012              3           201.78   \n",
       "116823  Wednesday, September 26 2012              2           340.62   \n",
       "116945  Wednesday, September 26 2012              3           594.06   \n",
       "360346  Wednesday, September 26 2012              6           403.56   \n",
       "142539  Wednesday, September 26 2012              1           108.01   \n",
       "\n",
       "        Sales Return Qty  Sales Return Value  \n",
       "513320                 0                 0.0  \n",
       "116823                 0                 0.0  \n",
       "116945                 0                 0.0  \n",
       "360346                 0                 0.0  \n",
       "142539                 0                 0.0  "
      ]
     },
     "execution_count": 4,
     "metadata": {},
     "output_type": "execute_result"
    }
   ],
   "source": [
    "data.head()"
   ]
  },
  {
   "cell_type": "code",
   "execution_count": 5,
   "metadata": {},
   "outputs": [
    {
     "name": "stdout",
     "output_type": "stream",
     "text": [
      "<class 'pandas.core.frame.DataFrame'>\n",
      "Int64Index: 1137470 entries, 513320 to 119053\n",
      "Data columns (total 8 columns):\n",
      "Retailer Code         1137470 non-null object\n",
      "Rep                   1137470 non-null object\n",
      "Product Code          1137470 non-null int64\n",
      "Date                  1137470 non-null object\n",
      "Net Sales Qty         1137470 non-null int64\n",
      "Net Sales Value       1137470 non-null float64\n",
      "Sales Return Qty      1137470 non-null int64\n",
      "Sales Return Value    1137470 non-null float64\n",
      "dtypes: float64(2), int64(3), object(3)\n",
      "memory usage: 78.1+ MB\n"
     ]
    }
   ],
   "source": [
    "data.info()"
   ]
  },
  {
   "cell_type": "markdown",
   "metadata": {},
   "source": [
    "### Retailer Data"
   ]
  },
  {
   "cell_type": "code",
   "execution_count": 6,
   "metadata": {},
   "outputs": [
    {
     "data": {
      "text/html": [
       "<div>\n",
       "<style scoped>\n",
       "    .dataframe tbody tr th:only-of-type {\n",
       "        vertical-align: middle;\n",
       "    }\n",
       "\n",
       "    .dataframe tbody tr th {\n",
       "        vertical-align: top;\n",
       "    }\n",
       "\n",
       "    .dataframe thead th {\n",
       "        text-align: right;\n",
       "    }\n",
       "</style>\n",
       "<table border=\"1\" class=\"dataframe\">\n",
       "  <thead>\n",
       "    <tr style=\"text-align: right;\">\n",
       "      <th></th>\n",
       "      <th>Retailer Code</th>\n",
       "      <th>Sub Ret Cat Name</th>\n",
       "      <th>Zone Name</th>\n",
       "      <th>Region Name</th>\n",
       "      <th>Territory Name</th>\n",
       "    </tr>\n",
       "  </thead>\n",
       "  <tbody>\n",
       "    <tr>\n",
       "      <th>0</th>\n",
       "      <td>ATHU0001</td>\n",
       "      <td>NORMAL</td>\n",
       "      <td>ZONE 02</td>\n",
       "      <td>COLOMBO 02 MAIN</td>\n",
       "      <td>ATHURUGIRIYA</td>\n",
       "    </tr>\n",
       "    <tr>\n",
       "      <th>1</th>\n",
       "      <td>ATHU0003</td>\n",
       "      <td>NORMAL</td>\n",
       "      <td>ZONE 02</td>\n",
       "      <td>COLOMBO 02 MAIN</td>\n",
       "      <td>ATHURUGIRIYA</td>\n",
       "    </tr>\n",
       "    <tr>\n",
       "      <th>2</th>\n",
       "      <td>ATHU0005</td>\n",
       "      <td>NORMAL</td>\n",
       "      <td>ZONE 02</td>\n",
       "      <td>COLOMBO 02 MAIN</td>\n",
       "      <td>ATHURUGIRIYA</td>\n",
       "    </tr>\n",
       "    <tr>\n",
       "      <th>3</th>\n",
       "      <td>ATHU0006</td>\n",
       "      <td>NORMAL</td>\n",
       "      <td>ZONE 02</td>\n",
       "      <td>COLOMBO 02 MAIN</td>\n",
       "      <td>ATHURUGIRIYA</td>\n",
       "    </tr>\n",
       "    <tr>\n",
       "      <th>4</th>\n",
       "      <td>ATHU0007</td>\n",
       "      <td>NORMAL</td>\n",
       "      <td>ZONE 02</td>\n",
       "      <td>COLOMBO 02 MAIN</td>\n",
       "      <td>ATHURUGIRIYA</td>\n",
       "    </tr>\n",
       "  </tbody>\n",
       "</table>\n",
       "</div>"
      ],
      "text/plain": [
       "  Retailer Code Sub Ret Cat Name Zone Name      Region Name Territory Name\n",
       "0      ATHU0001           NORMAL   ZONE 02  COLOMBO 02 MAIN   ATHURUGIRIYA\n",
       "1      ATHU0003           NORMAL   ZONE 02  COLOMBO 02 MAIN   ATHURUGIRIYA\n",
       "2      ATHU0005           NORMAL   ZONE 02  COLOMBO 02 MAIN   ATHURUGIRIYA\n",
       "3      ATHU0006           NORMAL   ZONE 02  COLOMBO 02 MAIN   ATHURUGIRIYA\n",
       "4      ATHU0007           NORMAL   ZONE 02  COLOMBO 02 MAIN   ATHURUGIRIYA"
      ]
     },
     "execution_count": 6,
     "metadata": {},
     "output_type": "execute_result"
    }
   ],
   "source": [
    "retailer_data.head()"
   ]
  },
  {
   "cell_type": "code",
   "execution_count": 7,
   "metadata": {},
   "outputs": [
    {
     "name": "stdout",
     "output_type": "stream",
     "text": [
      "<class 'pandas.core.frame.DataFrame'>\n",
      "RangeIndex: 6118 entries, 0 to 6117\n",
      "Data columns (total 5 columns):\n",
      "Retailer Code       6110 non-null object\n",
      "Sub Ret Cat Name    5872 non-null object\n",
      "Zone Name           6110 non-null object\n",
      "Region Name         6110 non-null object\n",
      "Territory Name      6118 non-null object\n",
      "dtypes: object(5)\n",
      "memory usage: 239.1+ KB\n"
     ]
    }
   ],
   "source": [
    "retailer_data.info()"
   ]
  },
  {
   "cell_type": "markdown",
   "metadata": {},
   "source": [
    "### Product Data"
   ]
  },
  {
   "cell_type": "code",
   "execution_count": 8,
   "metadata": {},
   "outputs": [
    {
     "data": {
      "text/html": [
       "<div>\n",
       "<style scoped>\n",
       "    .dataframe tbody tr th:only-of-type {\n",
       "        vertical-align: middle;\n",
       "    }\n",
       "\n",
       "    .dataframe tbody tr th {\n",
       "        vertical-align: top;\n",
       "    }\n",
       "\n",
       "    .dataframe thead th {\n",
       "        text-align: right;\n",
       "    }\n",
       "</style>\n",
       "<table border=\"1\" class=\"dataframe\">\n",
       "  <thead>\n",
       "    <tr style=\"text-align: right;\">\n",
       "      <th></th>\n",
       "      <th>Product Code</th>\n",
       "      <th>Product Description</th>\n",
       "      <th>Product Group Name</th>\n",
       "      <th>Brand Name</th>\n",
       "      <th>Sub Product Description</th>\n",
       "    </tr>\n",
       "  </thead>\n",
       "  <tbody>\n",
       "    <tr>\n",
       "      <th>0</th>\n",
       "      <td>500003</td>\n",
       "      <td>BIEN AIME COLOGNE 50ML</td>\n",
       "      <td>Cologne</td>\n",
       "      <td>Bien Aime</td>\n",
       "      <td>REGULAR COLOGNE</td>\n",
       "    </tr>\n",
       "    <tr>\n",
       "      <th>1</th>\n",
       "      <td>500004</td>\n",
       "      <td>BIEN AIME COLOGNE 100ML</td>\n",
       "      <td>Cologne</td>\n",
       "      <td>Bien Aime</td>\n",
       "      <td>REGULAR COLOGNE</td>\n",
       "    </tr>\n",
       "    <tr>\n",
       "      <th>2</th>\n",
       "      <td>500031</td>\n",
       "      <td>BABY CHERAMY SHAMPOO 125ML old</td>\n",
       "      <td>SHAMPOO</td>\n",
       "      <td>Baby Cheramy</td>\n",
       "      <td>REGULAR SHAMPOO</td>\n",
       "    </tr>\n",
       "    <tr>\n",
       "      <th>3</th>\n",
       "      <td>500034</td>\n",
       "      <td>BIEN AIME COLOGNE 200ML</td>\n",
       "      <td>Cologne</td>\n",
       "      <td>Bien Aime</td>\n",
       "      <td>REGULAR COLOGNE</td>\n",
       "    </tr>\n",
       "    <tr>\n",
       "      <th>4</th>\n",
       "      <td>500047</td>\n",
       "      <td>BABY CHERAMY PRICKLY HEAT 100G</td>\n",
       "      <td>Talc &amp; Powder</td>\n",
       "      <td>Baby Cheramy</td>\n",
       "      <td>PRICKLY HEAT TALC</td>\n",
       "    </tr>\n",
       "  </tbody>\n",
       "</table>\n",
       "</div>"
      ],
      "text/plain": [
       "   Product Code             Product Description Product Group Name  \\\n",
       "0        500003          BIEN AIME COLOGNE 50ML            Cologne   \n",
       "1        500004         BIEN AIME COLOGNE 100ML            Cologne   \n",
       "2        500031  BABY CHERAMY SHAMPOO 125ML old            SHAMPOO   \n",
       "3        500034         BIEN AIME COLOGNE 200ML            Cologne   \n",
       "4        500047  BABY CHERAMY PRICKLY HEAT 100G      Talc & Powder   \n",
       "\n",
       "     Brand Name Sub Product Description  \n",
       "0     Bien Aime         REGULAR COLOGNE  \n",
       "1     Bien Aime         REGULAR COLOGNE  \n",
       "2  Baby Cheramy         REGULAR SHAMPOO  \n",
       "3     Bien Aime         REGULAR COLOGNE  \n",
       "4  Baby Cheramy       PRICKLY HEAT TALC  "
      ]
     },
     "execution_count": 8,
     "metadata": {},
     "output_type": "execute_result"
    }
   ],
   "source": [
    "product_data.head()"
   ]
  },
  {
   "cell_type": "code",
   "execution_count": 9,
   "metadata": {},
   "outputs": [
    {
     "name": "stdout",
     "output_type": "stream",
     "text": [
      "<class 'pandas.core.frame.DataFrame'>\n",
      "RangeIndex: 457 entries, 0 to 456\n",
      "Data columns (total 5 columns):\n",
      "Product Code               457 non-null int64\n",
      "Product Description        457 non-null object\n",
      "Product Group Name         457 non-null object\n",
      "Brand Name                 457 non-null object\n",
      "Sub Product Description    457 non-null object\n",
      "dtypes: int64(1), object(4)\n",
      "memory usage: 17.9+ KB\n"
     ]
    }
   ],
   "source": [
    "product_data.info()"
   ]
  },
  {
   "cell_type": "code",
   "execution_count": null,
   "metadata": {},
   "outputs": [],
   "source": []
  },
  {
   "cell_type": "code",
   "execution_count": 10,
   "metadata": {},
   "outputs": [
    {
     "data": {
      "text/plain": [
       "6110"
      ]
     },
     "execution_count": 10,
     "metadata": {},
     "output_type": "execute_result"
    }
   ],
   "source": [
    "retailer_data['Retailer Code'].nunique()"
   ]
  },
  {
   "cell_type": "code",
   "execution_count": 11,
   "metadata": {},
   "outputs": [
    {
     "data": {
      "text/plain": [
       "7139"
      ]
     },
     "execution_count": 11,
     "metadata": {},
     "output_type": "execute_result"
    }
   ],
   "source": [
    "data['Retailer Code'].nunique()"
   ]
  },
  {
   "cell_type": "code",
   "execution_count": 12,
   "metadata": {},
   "outputs": [],
   "source": [
    "clean = retailer_data.dropna()"
   ]
  },
  {
   "cell_type": "code",
   "execution_count": 13,
   "metadata": {},
   "outputs": [
    {
     "name": "stdout",
     "output_type": "stream",
     "text": [
      "<class 'pandas.core.frame.DataFrame'>\n",
      "Int64Index: 5872 entries, 0 to 6117\n",
      "Data columns (total 5 columns):\n",
      "Retailer Code       5872 non-null object\n",
      "Sub Ret Cat Name    5872 non-null object\n",
      "Zone Name           5872 non-null object\n",
      "Region Name         5872 non-null object\n",
      "Territory Name      5872 non-null object\n",
      "dtypes: object(5)\n",
      "memory usage: 275.2+ KB\n"
     ]
    }
   ],
   "source": [
    "clean.info()"
   ]
  },
  {
   "cell_type": "code",
   "execution_count": 14,
   "metadata": {},
   "outputs": [],
   "source": [
    "retailers = clean['Retailer Code'].unique()"
   ]
  },
  {
   "cell_type": "code",
   "execution_count": 64,
   "metadata": {},
   "outputs": [],
   "source": [
    "data = data[data['Retailer Code'].isin(retailers)]"
   ]
  },
  {
   "cell_type": "code",
   "execution_count": 65,
   "metadata": {},
   "outputs": [
    {
     "name": "stdout",
     "output_type": "stream",
     "text": [
      "<class 'pandas.core.frame.DataFrame'>\n",
      "Int64Index: 0 entries\n",
      "Data columns (total 8 columns):\n",
      "Retailer Code         0 non-null object\n",
      "Rep                   0 non-null object\n",
      "Product Code          0 non-null int64\n",
      "Date                  0 non-null datetime64[ns]\n",
      "Net Sales Qty         0 non-null int64\n",
      "Net Sales Value       0 non-null float64\n",
      "Sales Return Qty      0 non-null int64\n",
      "Sales Return Value    0 non-null float64\n",
      "dtypes: datetime64[ns](1), float64(2), int64(3), object(2)\n",
      "memory usage: 0.0+ bytes\n"
     ]
    }
   ],
   "source": [
    "data.info()"
   ]
  },
  {
   "cell_type": "code",
   "execution_count": 17,
   "metadata": {},
   "outputs": [
    {
     "data": {
      "text/plain": [
       "457"
      ]
     },
     "execution_count": 17,
     "metadata": {},
     "output_type": "execute_result"
    }
   ],
   "source": [
    "product_data['Product Code'].nunique()"
   ]
  },
  {
   "cell_type": "code",
   "execution_count": 18,
   "metadata": {},
   "outputs": [],
   "source": [
    "products = product_data['Product Code'].unique()"
   ]
  },
  {
   "cell_type": "code",
   "execution_count": 19,
   "metadata": {},
   "outputs": [
    {
     "name": "stdout",
     "output_type": "stream",
     "text": [
      "<class 'pandas.core.frame.DataFrame'>\n",
      "Int64Index: 965231 entries, 116823 to 119053\n",
      "Data columns (total 8 columns):\n",
      "Retailer Code         965231 non-null object\n",
      "Rep                   965231 non-null object\n",
      "Product Code          965231 non-null int64\n",
      "Date                  965231 non-null object\n",
      "Net Sales Qty         965231 non-null int64\n",
      "Net Sales Value       965231 non-null float64\n",
      "Sales Return Qty      965231 non-null int64\n",
      "Sales Return Value    965231 non-null float64\n",
      "dtypes: float64(2), int64(3), object(3)\n",
      "memory usage: 66.3+ MB\n"
     ]
    }
   ],
   "source": [
    "data = data[data['Product Code'].isin(products)]\n",
    "data.info()"
   ]
  },
  {
   "cell_type": "code",
   "execution_count": 20,
   "metadata": {},
   "outputs": [
    {
     "data": {
      "text/html": [
       "<div>\n",
       "<style scoped>\n",
       "    .dataframe tbody tr th:only-of-type {\n",
       "        vertical-align: middle;\n",
       "    }\n",
       "\n",
       "    .dataframe tbody tr th {\n",
       "        vertical-align: top;\n",
       "    }\n",
       "\n",
       "    .dataframe thead th {\n",
       "        text-align: right;\n",
       "    }\n",
       "</style>\n",
       "<table border=\"1\" class=\"dataframe\">\n",
       "  <thead>\n",
       "    <tr style=\"text-align: right;\">\n",
       "      <th></th>\n",
       "      <th>Retailer Code</th>\n",
       "      <th>Rep</th>\n",
       "      <th>Product Code</th>\n",
       "      <th>Date</th>\n",
       "      <th>Net Sales Qty</th>\n",
       "      <th>Net Sales Value</th>\n",
       "      <th>Sales Return Qty</th>\n",
       "      <th>Sales Return Value</th>\n",
       "    </tr>\n",
       "  </thead>\n",
       "  <tbody>\n",
       "    <tr>\n",
       "      <th>116823</th>\n",
       "      <td>DEMA0349</td>\n",
       "      <td>DEMATAGODA - R1</td>\n",
       "      <td>501467</td>\n",
       "      <td>Wednesday, September 26 2012</td>\n",
       "      <td>2</td>\n",
       "      <td>340.62</td>\n",
       "      <td>0</td>\n",
       "      <td>0.0</td>\n",
       "    </tr>\n",
       "    <tr>\n",
       "      <th>116945</th>\n",
       "      <td>DEMA0349</td>\n",
       "      <td>DEMATAGODA - R1</td>\n",
       "      <td>501765</td>\n",
       "      <td>Wednesday, September 26 2012</td>\n",
       "      <td>3</td>\n",
       "      <td>594.06</td>\n",
       "      <td>0</td>\n",
       "      <td>0.0</td>\n",
       "    </tr>\n",
       "    <tr>\n",
       "      <th>360346</th>\n",
       "      <td>KADU0308</td>\n",
       "      <td>KADUWELA - R1</td>\n",
       "      <td>501480</td>\n",
       "      <td>Wednesday, September 26 2012</td>\n",
       "      <td>6</td>\n",
       "      <td>403.56</td>\n",
       "      <td>0</td>\n",
       "      <td>0.0</td>\n",
       "    </tr>\n",
       "    <tr>\n",
       "      <th>142539</th>\n",
       "      <td>HANW0168</td>\n",
       "      <td>HANWELLA - R1</td>\n",
       "      <td>500137</td>\n",
       "      <td>Wednesday, September 26 2012</td>\n",
       "      <td>1</td>\n",
       "      <td>108.01</td>\n",
       "      <td>0</td>\n",
       "      <td>0.0</td>\n",
       "    </tr>\n",
       "    <tr>\n",
       "      <th>116895</th>\n",
       "      <td>DEMA0349</td>\n",
       "      <td>DEMATAGODA - R1</td>\n",
       "      <td>501487</td>\n",
       "      <td>Wednesday, September 26 2012</td>\n",
       "      <td>12</td>\n",
       "      <td>533.28</td>\n",
       "      <td>0</td>\n",
       "      <td>0.0</td>\n",
       "    </tr>\n",
       "  </tbody>\n",
       "</table>\n",
       "</div>"
      ],
      "text/plain": [
       "       Retailer Code              Rep  Product Code  \\\n",
       "116823      DEMA0349  DEMATAGODA - R1        501467   \n",
       "116945      DEMA0349  DEMATAGODA - R1        501765   \n",
       "360346      KADU0308    KADUWELA - R1        501480   \n",
       "142539      HANW0168    HANWELLA - R1        500137   \n",
       "116895      DEMA0349  DEMATAGODA - R1        501487   \n",
       "\n",
       "                                Date  Net Sales Qty  Net Sales Value  \\\n",
       "116823  Wednesday, September 26 2012              2           340.62   \n",
       "116945  Wednesday, September 26 2012              3           594.06   \n",
       "360346  Wednesday, September 26 2012              6           403.56   \n",
       "142539  Wednesday, September 26 2012              1           108.01   \n",
       "116895  Wednesday, September 26 2012             12           533.28   \n",
       "\n",
       "        Sales Return Qty  Sales Return Value  \n",
       "116823                 0                 0.0  \n",
       "116945                 0                 0.0  \n",
       "360346                 0                 0.0  \n",
       "142539                 0                 0.0  \n",
       "116895                 0                 0.0  "
      ]
     },
     "execution_count": 20,
     "metadata": {},
     "output_type": "execute_result"
    }
   ],
   "source": [
    "data.head()"
   ]
  },
  {
   "cell_type": "code",
   "execution_count": 59,
   "metadata": {},
   "outputs": [
    {
     "data": {
      "text/html": [
       "<div>\n",
       "<style scoped>\n",
       "    .dataframe tbody tr th:only-of-type {\n",
       "        vertical-align: middle;\n",
       "    }\n",
       "\n",
       "    .dataframe tbody tr th {\n",
       "        vertical-align: top;\n",
       "    }\n",
       "\n",
       "    .dataframe thead th {\n",
       "        text-align: right;\n",
       "    }\n",
       "</style>\n",
       "<table border=\"1\" class=\"dataframe\">\n",
       "  <thead>\n",
       "    <tr style=\"text-align: right;\">\n",
       "      <th></th>\n",
       "      <th>Product Code</th>\n",
       "      <th>Date</th>\n",
       "    </tr>\n",
       "  </thead>\n",
       "  <tbody>\n",
       "    <tr>\n",
       "      <th>0</th>\n",
       "      <td>605048</td>\n",
       "      <td>1</td>\n",
       "    </tr>\n",
       "    <tr>\n",
       "      <th>1</th>\n",
       "      <td>501578</td>\n",
       "      <td>1</td>\n",
       "    </tr>\n",
       "    <tr>\n",
       "      <th>2</th>\n",
       "      <td>605047</td>\n",
       "      <td>1</td>\n",
       "    </tr>\n",
       "    <tr>\n",
       "      <th>3</th>\n",
       "      <td>502074</td>\n",
       "      <td>1</td>\n",
       "    </tr>\n",
       "    <tr>\n",
       "      <th>4</th>\n",
       "      <td>501645</td>\n",
       "      <td>2</td>\n",
       "    </tr>\n",
       "  </tbody>\n",
       "</table>\n",
       "</div>"
      ],
      "text/plain": [
       "   Product Code  Date\n",
       "0        605048     1\n",
       "1        501578     1\n",
       "2        605047     1\n",
       "3        502074     1\n",
       "4        501645     2"
      ]
     },
     "execution_count": 59,
     "metadata": {},
     "output_type": "execute_result"
    }
   ],
   "source": [
    "prod_year = data.groupby('Product Code')['Date'].count().sort_values().reset_index()\n",
    "#retailer_prod =  data.groupby(['Retailer Code', 'Product Code'])['Date'].count().sort_values().reset_incdex()\n",
    "prod_year.head()"
   ]
  },
  {
   "cell_type": "code",
   "execution_count": 22,
   "metadata": {},
   "outputs": [
    {
     "data": {
      "text/html": [
       "<div>\n",
       "<style scoped>\n",
       "    .dataframe tbody tr th:only-of-type {\n",
       "        vertical-align: middle;\n",
       "    }\n",
       "\n",
       "    .dataframe tbody tr th {\n",
       "        vertical-align: top;\n",
       "    }\n",
       "\n",
       "    .dataframe thead th {\n",
       "        text-align: right;\n",
       "    }\n",
       "</style>\n",
       "<table border=\"1\" class=\"dataframe\">\n",
       "  <thead>\n",
       "    <tr style=\"text-align: right;\">\n",
       "      <th></th>\n",
       "      <th>Product Code</th>\n",
       "      <th>Date</th>\n",
       "    </tr>\n",
       "  </thead>\n",
       "  <tbody>\n",
       "    <tr>\n",
       "      <th>450</th>\n",
       "      <td>501461</td>\n",
       "      <td>29372</td>\n",
       "    </tr>\n",
       "    <tr>\n",
       "      <th>451</th>\n",
       "      <td>604927</td>\n",
       "      <td>30501</td>\n",
       "    </tr>\n",
       "    <tr>\n",
       "      <th>452</th>\n",
       "      <td>501453</td>\n",
       "      <td>33606</td>\n",
       "    </tr>\n",
       "    <tr>\n",
       "      <th>453</th>\n",
       "      <td>500137</td>\n",
       "      <td>44667</td>\n",
       "    </tr>\n",
       "    <tr>\n",
       "      <th>454</th>\n",
       "      <td>501459</td>\n",
       "      <td>51220</td>\n",
       "    </tr>\n",
       "  </tbody>\n",
       "</table>\n",
       "</div>"
      ],
      "text/plain": [
       "     Product Code   Date\n",
       "450        501461  29372\n",
       "451        604927  30501\n",
       "452        501453  33606\n",
       "453        500137  44667\n",
       "454        501459  51220"
      ]
     },
     "execution_count": 22,
     "metadata": {},
     "output_type": "execute_result"
    }
   ],
   "source": [
    "prod_year.tail()"
   ]
  },
  {
   "cell_type": "code",
   "execution_count": 23,
   "metadata": {},
   "outputs": [],
   "source": [
    "#convert to date time\n",
    "data['Date'] = pd.to_datetime(data['Date'])"
   ]
  },
  {
   "cell_type": "code",
   "execution_count": 24,
   "metadata": {},
   "outputs": [
    {
     "data": {
      "text/html": [
       "<div>\n",
       "<style scoped>\n",
       "    .dataframe tbody tr th:only-of-type {\n",
       "        vertical-align: middle;\n",
       "    }\n",
       "\n",
       "    .dataframe tbody tr th {\n",
       "        vertical-align: top;\n",
       "    }\n",
       "\n",
       "    .dataframe thead th {\n",
       "        text-align: right;\n",
       "    }\n",
       "</style>\n",
       "<table border=\"1\" class=\"dataframe\">\n",
       "  <thead>\n",
       "    <tr style=\"text-align: right;\">\n",
       "      <th></th>\n",
       "      <th>Retailer Code</th>\n",
       "      <th>Rep</th>\n",
       "      <th>Product Code</th>\n",
       "      <th>Date</th>\n",
       "      <th>Net Sales Qty</th>\n",
       "      <th>Net Sales Value</th>\n",
       "      <th>Sales Return Qty</th>\n",
       "      <th>Sales Return Value</th>\n",
       "    </tr>\n",
       "  </thead>\n",
       "  <tbody>\n",
       "    <tr>\n",
       "      <th>116768</th>\n",
       "      <td>DEMA0349</td>\n",
       "      <td>DEMATAGODA - R1</td>\n",
       "      <td>501459</td>\n",
       "      <td>2012-09-26</td>\n",
       "      <td>150</td>\n",
       "      <td>5293.50</td>\n",
       "      <td>0</td>\n",
       "      <td>0.0</td>\n",
       "    </tr>\n",
       "    <tr>\n",
       "      <th>359880</th>\n",
       "      <td>KADU0303</td>\n",
       "      <td>KADUWELA - R1</td>\n",
       "      <td>501459</td>\n",
       "      <td>2012-09-26</td>\n",
       "      <td>0</td>\n",
       "      <td>0.00</td>\n",
       "      <td>0</td>\n",
       "      <td>0.0</td>\n",
       "    </tr>\n",
       "    <tr>\n",
       "      <th>361277</th>\n",
       "      <td>KADU0322</td>\n",
       "      <td>KADUWELA - R1</td>\n",
       "      <td>501459</td>\n",
       "      <td>2012-09-26</td>\n",
       "      <td>15</td>\n",
       "      <td>529.35</td>\n",
       "      <td>0</td>\n",
       "      <td>0.0</td>\n",
       "    </tr>\n",
       "    <tr>\n",
       "      <th>117396</th>\n",
       "      <td>DEMA0352</td>\n",
       "      <td>DEMATAGODA - R1</td>\n",
       "      <td>501459</td>\n",
       "      <td>2012-09-26</td>\n",
       "      <td>150</td>\n",
       "      <td>5293.50</td>\n",
       "      <td>0</td>\n",
       "      <td>0.0</td>\n",
       "    </tr>\n",
       "    <tr>\n",
       "      <th>230598</th>\n",
       "      <td>KESB0302</td>\n",
       "      <td>KESBEWA - R1</td>\n",
       "      <td>501459</td>\n",
       "      <td>2012-09-26</td>\n",
       "      <td>1500</td>\n",
       "      <td>52935.00</td>\n",
       "      <td>0</td>\n",
       "      <td>0.0</td>\n",
       "    </tr>\n",
       "  </tbody>\n",
       "</table>\n",
       "</div>"
      ],
      "text/plain": [
       "       Retailer Code              Rep  Product Code       Date  Net Sales Qty  \\\n",
       "116768      DEMA0349  DEMATAGODA - R1        501459 2012-09-26            150   \n",
       "359880      KADU0303    KADUWELA - R1        501459 2012-09-26              0   \n",
       "361277      KADU0322    KADUWELA - R1        501459 2012-09-26             15   \n",
       "117396      DEMA0352  DEMATAGODA - R1        501459 2012-09-26            150   \n",
       "230598      KESB0302     KESBEWA - R1        501459 2012-09-26           1500   \n",
       "\n",
       "        Net Sales Value  Sales Return Qty  Sales Return Value  \n",
       "116768          5293.50                 0                 0.0  \n",
       "359880             0.00                 0                 0.0  \n",
       "361277           529.35                 0                 0.0  \n",
       "117396          5293.50                 0                 0.0  \n",
       "230598         52935.00                 0                 0.0  "
      ]
     },
     "execution_count": 24,
     "metadata": {},
     "output_type": "execute_result"
    }
   ],
   "source": [
    "test_product = data[data['Product Code'].isin(['501459'])].reindex()\n",
    "test_product.head()"
   ]
  },
  {
   "cell_type": "code",
   "execution_count": null,
   "metadata": {},
   "outputs": [],
   "source": []
  },
  {
   "cell_type": "code",
   "execution_count": null,
   "metadata": {},
   "outputs": [],
   "source": []
  },
  {
   "cell_type": "markdown",
   "metadata": {},
   "source": [
    "# Model"
   ]
  },
  {
   "cell_type": "markdown",
   "metadata": {},
   "source": [
    "### test for one product"
   ]
  },
  {
   "cell_type": "code",
   "execution_count": 25,
   "metadata": {},
   "outputs": [],
   "source": [
    "sample_set = test_product.filter(['Date', 'Net Sales Qty'], axis=1).set_index('Date')\n",
    "sample_set = sample_set.groupby('Date')['Net Sales Qty'].sum().reindex()\n",
    "data_set = pd.DataFrame(sample_set)"
   ]
  },
  {
   "cell_type": "code",
   "execution_count": 26,
   "metadata": {},
   "outputs": [],
   "source": [
    " data_set.index = pd.to_datetime(data_set.index)"
   ]
  },
  {
   "cell_type": "code",
   "execution_count": 27,
   "metadata": {},
   "outputs": [
    {
     "data": {
      "text/plain": [
       "<matplotlib.axes._subplots.AxesSubplot at 0x1d539d48cf8>"
      ]
     },
     "execution_count": 27,
     "metadata": {},
     "output_type": "execute_result"
    },
    {
     "data": {
      "image/png": "[encoded data removed]",
      "text/plain": [
       "<Figure size 432x288 with 1 Axes>"
      ]
     },
     "metadata": {},
     "output_type": "display_data"
    }
   ],
   "source": [
    "data_set.plot()"
   ]
  },
  {
   "cell_type": "code",
   "execution_count": 28,
   "metadata": {},
   "outputs": [
    {
     "name": "stdout",
     "output_type": "stream",
     "text": [
      "<class 'pandas.core.frame.DataFrame'>\n",
      "DatetimeIndex: 706 entries, 2012-04-02 to 2015-05-05\n",
      "Data columns (total 1 columns):\n",
      "Net Sales Qty    706 non-null int64\n",
      "dtypes: int64(1)\n",
      "memory usage: 11.0 KB\n"
     ]
    }
   ],
   "source": [
    "data_set.info()"
   ]
  },
  {
   "cell_type": "code",
   "execution_count": 29,
   "metadata": {},
   "outputs": [],
   "source": [
    "train_set = data_set.head(int(len(data_set)*0.70))\n",
    "test_set = data_set.tail(int(len(data_set)*0.30))"
   ]
  },
  {
   "cell_type": "code",
   "execution_count": 30,
   "metadata": {},
   "outputs": [],
   "source": [
    "#scale data\n",
    "from sklearn.preprocessing import MinMaxScaler"
   ]
  },
  {
   "cell_type": "code",
   "execution_count": 31,
   "metadata": {},
   "outputs": [],
   "source": [
    "scaler = MinMaxScaler()"
   ]
  },
  {
   "cell_type": "code",
   "execution_count": 32,
   "metadata": {},
   "outputs": [],
   "source": [
    "train_scaled = scaler.fit_transform(train_set)"
   ]
  },
  {
   "cell_type": "code",
   "execution_count": 33,
   "metadata": {},
   "outputs": [],
   "source": [
    "test_scaled = scaler.transform(test_set)"
   ]
  },
  {
   "cell_type": "code",
   "execution_count": 34,
   "metadata": {},
   "outputs": [],
   "source": [
    "def next_batch(training_data, batch_size, steps):\n",
    "    rand_start = np.random.randint(0, len(training_data)-steps)\n",
    "    y_batch = np.array(training_data[rand_start: rand_start+steps+1]).reshape(1,steps+1)\n",
    "    return y_batch[:,:-1].reshape(-1,steps,1), y_batch[:,1:].reshape(-1,steps,1)"
   ]
  },
  {
   "cell_type": "code",
   "execution_count": 35,
   "metadata": {},
   "outputs": [],
   "source": [
    "#set up the RNN model\n",
    "import tensorflow as tf"
   ]
  },
  {
   "cell_type": "code",
   "execution_count": 36,
   "metadata": {},
   "outputs": [],
   "source": [
    "num_inputs = 1\n",
    "\n",
    "num_time_steps = 12\n",
    "\n",
    "num_neurons = 100\n",
    "\n",
    "num_outputs = 1\n",
    "\n",
    "learning_rate = 0.001\n",
    "\n",
    "num_train_iterations = 6000\n",
    "\n",
    "batch_size = 1"
   ]
  },
  {
   "cell_type": "code",
   "execution_count": 37,
   "metadata": {},
   "outputs": [],
   "source": [
    "x = tf.placeholder(tf.float32,[None, num_time_steps, num_inputs])\n",
    "y = tf.placeholder(tf.float32,[None, num_time_steps, num_outputs])"
   ]
  },
  {
   "cell_type": "code",
   "execution_count": 38,
   "metadata": {},
   "outputs": [],
   "source": [
    "cell = tf.contrib.rnn.OutputProjectionWrapper(tf.contrib.rnn.BasicLSTMCell(num_units = num_neurons, activation = tf.nn.relu),  output_size = num_outputs)"
   ]
  },
  {
   "cell_type": "code",
   "execution_count": 39,
   "metadata": {},
   "outputs": [],
   "source": [
    "outputs, states = tf.nn.dynamic_rnn(cell, x, dtype = tf.float32)"
   ]
  },
  {
   "cell_type": "code",
   "execution_count": 40,
   "metadata": {},
   "outputs": [],
   "source": [
    "#loss function and optimizer\n",
    "loss = tf.reduce_mean(tf.square(outputs-y))"
   ]
  },
  {
   "cell_type": "code",
   "execution_count": 41,
   "metadata": {},
   "outputs": [],
   "source": [
    "optimizer = tf.train.AdamOptimizer(learning_rate = learning_rate)\n",
    "train = optimizer.minimize(loss)"
   ]
  },
  {
   "cell_type": "code",
   "execution_count": 42,
   "metadata": {},
   "outputs": [],
   "source": [
    "#initialize global variables\n",
    "init = tf.global_variables_initializer()"
   ]
  },
  {
   "cell_type": "code",
   "execution_count": 43,
   "metadata": {},
   "outputs": [],
   "source": [
    "#create an save file\n",
    "saver = tf.train.Saver()"
   ]
  },
  {
   "cell_type": "code",
   "execution_count": 44,
   "metadata": {},
   "outputs": [
    {
     "name": "stdout",
     "output_type": "stream",
     "text": [
      "0 \tMSE:  0.032626092\n",
      "100 \tMSE:  0.0037331078\n",
      "200 \tMSE:  0.024555653\n",
      "300 \tMSE:  0.015312397\n",
      "400 \tMSE:  0.0073461444\n",
      "500 \tMSE:  0.011969625\n",
      "600 \tMSE:  0.014264512\n",
      "700 \tMSE:  0.016802842\n",
      "800 \tMSE:  0.008027275\n",
      "900 \tMSE:  0.007065999\n",
      "1000 \tMSE:  0.009844562\n",
      "1100 \tMSE:  0.013759546\n",
      "1200 \tMSE:  0.009391434\n",
      "1300 \tMSE:  0.0135224955\n",
      "1400 \tMSE:  0.0076528317\n",
      "1500 \tMSE:  0.015115168\n",
      "1600 \tMSE:  0.0061913375\n",
      "1700 \tMSE:  0.01896774\n",
      "1800 \tMSE:  0.005746603\n",
      "1900 \tMSE:  0.0096385665\n",
      "2000 \tMSE:  0.024546213\n",
      "2100 \tMSE:  0.0060762297\n",
      "2200 \tMSE:  0.010867824\n",
      "2300 \tMSE:  0.0055120364\n",
      "2400 \tMSE:  0.0036498017\n",
      "2500 \tMSE:  0.020922905\n",
      "2600 \tMSE:  0.003480741\n",
      "2700 \tMSE:  0.023955716\n",
      "2800 \tMSE:  0.028729474\n",
      "2900 \tMSE:  0.008420554\n",
      "3000 \tMSE:  0.0065186545\n",
      "3100 \tMSE:  0.005313517\n",
      "3200 \tMSE:  0.022549467\n",
      "3300 \tMSE:  0.014395689\n",
      "3400 \tMSE:  0.0022671747\n",
      "3500 \tMSE:  0.00947532\n",
      "3600 \tMSE:  0.0033187103\n",
      "3700 \tMSE:  0.029322552\n",
      "3800 \tMSE:  0.005484707\n",
      "3900 \tMSE:  0.022588344\n",
      "4000 \tMSE:  0.020388378\n",
      "4100 \tMSE:  0.008866739\n",
      "4200 \tMSE:  0.010459169\n",
      "4300 \tMSE:  0.012552637\n",
      "4400 \tMSE:  0.0037430413\n",
      "4500 \tMSE:  0.018808462\n",
      "4600 \tMSE:  0.013879709\n",
      "4700 \tMSE:  0.010461618\n",
      "4800 \tMSE:  0.020357415\n",
      "4900 \tMSE:  0.005551925\n",
      "5000 \tMSE:  0.0050205276\n",
      "5100 \tMSE:  0.016834984\n",
      "5200 \tMSE:  0.005070971\n",
      "5300 \tMSE:  0.003612753\n",
      "5400 \tMSE:  0.0101561295\n",
      "5500 \tMSE:  0.0057641775\n",
      "5600 \tMSE:  0.004420783\n",
      "5700 \tMSE:  0.0044728615\n",
      "5800 \tMSE:  0.0020001326\n",
      "5900 \tMSE:  0.0049246736\n"
     ]
    }
   ],
   "source": [
    "#Session\n",
    "with tf.Session() as sess:\n",
    "    sess.run(init)\n",
    "    for iteration in range(num_train_iterations):\n",
    "        x_batch, y_batch = next_batch(train_scaled, batch_size, num_time_steps)\n",
    "        sess.run(train, feed_dict = { x: x_batch, y: y_batch})\n",
    "        if iteration %100 == 0:\n",
    "            mse = loss.eval(feed_dict = { x: x_batch, y: y_batch})\n",
    "            print(iteration, '\\tMSE: ', mse)\n",
    "            \n",
    "    saver.save(sess, './ex_time_series_model')"
   ]
  },
  {
   "cell_type": "code",
   "execution_count": 78,
   "metadata": {},
   "outputs": [
    {
     "data": {
      "text/html": [
       "<div>\n",
       "<style scoped>\n",
       "    .dataframe tbody tr th:only-of-type {\n",
       "        vertical-align: middle;\n",
       "    }\n",
       "\n",
       "    .dataframe tbody tr th {\n",
       "        vertical-align: top;\n",
       "    }\n",
       "\n",
       "    .dataframe thead th {\n",
       "        text-align: right;\n",
       "    }\n",
       "</style>\n",
       "<table border=\"1\" class=\"dataframe\">\n",
       "  <thead>\n",
       "    <tr style=\"text-align: right;\">\n",
       "      <th></th>\n",
       "      <th>Net Sales Qty</th>\n",
       "      <th>Generated</th>\n",
       "    </tr>\n",
       "    <tr>\n",
       "      <th>Date</th>\n",
       "      <th></th>\n",
       "      <th></th>\n",
       "    </tr>\n",
       "  </thead>\n",
       "  <tbody>\n",
       "    <tr>\n",
       "      <th>2015-04-06</th>\n",
       "      <td>0</td>\n",
       "      <td>0.0</td>\n",
       "    </tr>\n",
       "    <tr>\n",
       "      <th>2015-04-27</th>\n",
       "      <td>0</td>\n",
       "      <td>0.0</td>\n",
       "    </tr>\n",
       "    <tr>\n",
       "      <th>2015-04-28</th>\n",
       "      <td>0</td>\n",
       "      <td>0.0</td>\n",
       "    </tr>\n",
       "    <tr>\n",
       "      <th>2015-04-29</th>\n",
       "      <td>0</td>\n",
       "      <td>0.0</td>\n",
       "    </tr>\n",
       "    <tr>\n",
       "      <th>2015-05-05</th>\n",
       "      <td>0</td>\n",
       "      <td>0.0</td>\n",
       "    </tr>\n",
       "  </tbody>\n",
       "</table>\n",
       "</div>"
      ],
      "text/plain": [
       "            Net Sales Qty  Generated\n",
       "Date                                \n",
       "2015-04-06              0        0.0\n",
       "2015-04-27              0        0.0\n",
       "2015-04-28              0        0.0\n",
       "2015-04-29              0        0.0\n",
       "2015-05-05              0        0.0"
      ]
     },
     "execution_count": 78,
     "metadata": {},
     "output_type": "execute_result"
    }
   ],
   "source": [
    "#predict the future\n",
    "test_set.head()"
   ]
  },
  {
   "cell_type": "code",
   "execution_count": 80,
   "metadata": {},
   "outputs": [
    {
     "name": "stdout",
     "output_type": "stream",
     "text": [
      "INFO:tensorflow:Restoring parameters from ./ex_time_series_model\n"
     ]
    }
   ],
   "source": [
    "with tf.Session() as sess:\n",
    "    saver.restore(sess, './ex_time_series_model')\n",
    "    train_seed = list(train_scaled)\n",
    "    n = int(len(test_scaled))\n",
    "            \n",
    "    for iteration in range(n):\n",
    "        x_batch = np.array(train_seed[-num_time_steps:]).reshape(1, num_time_steps, 1)\n",
    "        y_pred = sess.run(outputs, feed_dict = {x: x_batch})\n",
    "        \n",
    "        train_seed.append(y_pred[0, -1, 0])"
   ]
  },
  {
   "cell_type": "code",
   "execution_count": 72,
   "metadata": {},
   "outputs": [
    {
     "data": {
      "text/plain": [
       "[array([0.12110092]),\n",
       " array([0.08506422]),\n",
       " array([0.18165138]),\n",
       " array([0.21592661]),\n",
       " array([0.08946789]),\n",
       " array([0.2027156]),\n",
       " array([0.15655046]),\n",
       " array([0.16242202]),\n",
       " array([0.2626789]),\n",
       " array([0.53607339]),\n",
       " array([0.18297248]),\n",
       " array([0.07757798]),\n",
       " array([0.31390826]),\n",
       " array([0.10385321]),\n",
       " array([0.13511927]),\n",
       " array([0.19706422]),\n",
       " array([0.15434862]),\n",
       " array([0.1213945]),\n",
       " array([0.19794495]),\n",
       " array([0.17834862]),\n",
       " array([0.21673394]),\n",
       " array([0.30165138]),\n",
       " array([0.19757798]),\n",
       " array([0.05761468]),\n",
       " array([0.09680734]),\n",
       " array([0.19933945]),\n",
       " array([0.23045872]),\n",
       " array([0.15765138]),\n",
       " array([0.05497248]),\n",
       " array([0.20330275]),\n",
       " array([0.07515596]),\n",
       " array([0.16205505]),\n",
       " array([0.21262385]),\n",
       " array([0.11053211]),\n",
       " array([0.53944954]),\n",
       " array([0.04234862]),\n",
       " array([0.03530275]),\n",
       " array([0.04411009]),\n",
       " array([0.16653211]),\n",
       " array([0.17122936]),\n",
       " array([0.27075229]),\n",
       " array([0.57255046]),\n",
       " array([0.01401835]),\n",
       " array([0.08763303]),\n",
       " array([0.0533578]),\n",
       " array([0.15933945]),\n",
       " array([0.13489908]),\n",
       " array([0.23075229]),\n",
       " array([0.12234862]),\n",
       " array([0.11853211]),\n",
       " array([0.17482569]),\n",
       " array([0.14576147]),\n",
       " array([0.072]),\n",
       " array([0.17834862]),\n",
       " array([0.12888073]),\n",
       " array([0.18774312]),\n",
       " array([0.25423853]),\n",
       " array([0.14055046]),\n",
       " array([0.11530275]),\n",
       " array([0.26392661]),\n",
       " array([0.16792661]),\n",
       " array([0.15816514]),\n",
       " array([0.14781651]),\n",
       " array([0.15801835]),\n",
       " array([0.0279633]),\n",
       " array([0.08234862]),\n",
       " array([0.18950459]),\n",
       " array([0.23031193]),\n",
       " array([0.24961468]),\n",
       " array([0.12697248]),\n",
       " array([0.32499083]),\n",
       " array([0.02517431]),\n",
       " array([0.04851376]),\n",
       " array([0.08601835]),\n",
       " array([0.11266055]),\n",
       " array([0.13299083]),\n",
       " array([0.11566972]),\n",
       " array([0.03875229]),\n",
       " array([0.14172477]),\n",
       " array([0.19317431]),\n",
       " array([0.19155963]),\n",
       " array([0.19398165]),\n",
       " array([0.14678899]),\n",
       " array([0.15823853]),\n",
       " array([0.05159633]),\n",
       " array([0.12176147]),\n",
       " array([0.24051376]),\n",
       " array([0.28763303]),\n",
       " array([0.17827523]),\n",
       " array([0.3253578]),\n",
       " array([0.04785321]),\n",
       " array([0.2199633]),\n",
       " array([0.25790826]),\n",
       " array([0.10040367]),\n",
       " array([0.15354128]),\n",
       " array([0.16917431]),\n",
       " array([0.2212844]),\n",
       " array([0.14759633]),\n",
       " array([0.20733945]),\n",
       " array([0.4760367]),\n",
       " array([0.04455046]),\n",
       " array([0.10943119]),\n",
       " array([0.16088073]),\n",
       " array([0.04631193]),\n",
       " array([0.05262385]),\n",
       " array([0.15398165]),\n",
       " array([0.19750459]),\n",
       " array([0.12521101]),\n",
       " array([0.14407339]),\n",
       " array([0.13695413]),\n",
       " array([0.04322936]),\n",
       " array([0.10642202]),\n",
       " array([0.13372477]),\n",
       " array([0.04895413]),\n",
       " array([0.17078899]),\n",
       " array([0.19926606]),\n",
       " array([0.16036697]),\n",
       " array([0.04983486]),\n",
       " array([0.14319266]),\n",
       " array([0.1879633]),\n",
       " array([0.18899083]),\n",
       " array([0.18700917]),\n",
       " array([0.2133578]),\n",
       " array([0.16851376]),\n",
       " array([0.03882569]),\n",
       " array([0.08051376]),\n",
       " array([0.22994495]),\n",
       " array([0.24572477]),\n",
       " array([0.16220183]),\n",
       " array([0.25893578]),\n",
       " array([0.03574312]),\n",
       " array([0.03486239]),\n",
       " array([0.16623853]),\n",
       " array([0.04697248]),\n",
       " array([0.17746789]),\n",
       " array([0.21974312]),\n",
       " array([0.10480734]),\n",
       " array([0.13387156]),\n",
       " array([0.03640367]),\n",
       " array([0.15515596]),\n",
       " array([0.12374312]),\n",
       " array([0.07911927]),\n",
       " array([0.10451376]),\n",
       " array([0.03530275]),\n",
       " array([0.09100917]),\n",
       " array([0.04675229]),\n",
       " array([0.06957798]),\n",
       " array([0.04844037]),\n",
       " array([0.05658716]),\n",
       " array([0.05702752]),\n",
       " array([0.0453578]),\n",
       " array([0.03434862]),\n",
       " array([0.03618349]),\n",
       " array([0.03662385]),\n",
       " array([0.03618349]),\n",
       " array([0.03618349]),\n",
       " array([0.03882569]),\n",
       " array([0.05820183]),\n",
       " array([0.03677064]),\n",
       " array([0.03618349]),\n",
       " array([0.03618349]),\n",
       " array([0.03618349]),\n",
       " array([0.03618349]),\n",
       " array([0.03618349]),\n",
       " array([0.03618349]),\n",
       " array([0.03611009]),\n",
       " array([0.04234862]),\n",
       " array([0.04234862]),\n",
       " array([0.03618349]),\n",
       " array([0.03346789]),\n",
       " array([0.03618349]),\n",
       " array([0.03655046]),\n",
       " array([0.03618349]),\n",
       " array([0.03574312]),\n",
       " array([0.03618349]),\n",
       " array([0.03618349]),\n",
       " array([0.03618349]),\n",
       " array([0.03618349]),\n",
       " array([0.03618349]),\n",
       " array([0.03618349]),\n",
       " array([0.03618349]),\n",
       " array([0.03618349]),\n",
       " array([0.03618349]),\n",
       " array([0.03618349]),\n",
       " array([0.03618349]),\n",
       " array([0.03618349]),\n",
       " array([0.03618349]),\n",
       " array([0.03618349]),\n",
       " array([0.03618349]),\n",
       " array([0.03618349]),\n",
       " array([0.03618349]),\n",
       " array([0.03618349]),\n",
       " array([0.03618349]),\n",
       " array([0.03618349]),\n",
       " array([0.03618349]),\n",
       " array([0.03618349]),\n",
       " array([0.03618349]),\n",
       " array([0.03618349]),\n",
       " array([0.03618349]),\n",
       " array([0.03618349]),\n",
       " array([0.03618349]),\n",
       " array([0.03618349]),\n",
       " array([0.03618349]),\n",
       " array([0.03618349]),\n",
       " array([0.03618349]),\n",
       " array([0.03618349]),\n",
       " array([0.03618349]),\n",
       " array([0.03618349]),\n",
       " array([0.03618349]),\n",
       " array([0.03618349]),\n",
       " array([0.03618349]),\n",
       " 0.15867524,\n",
       " 0.21641192,\n",
       " 0.23208795,\n",
       " 0.21831939,\n",
       " 0.1980298,\n",
       " 0.18594104,\n",
       " 0.18278742,\n",
       " 0.1829145,\n",
       " 0.18342248,\n",
       " 0.18537383,\n",
       " 0.18728575,\n",
       " 0.18565527,\n",
       " 0.18252876,\n",
       " 0.1838708,\n",
       " 0.18583092,\n",
       " 0.18628156,\n",
       " 0.18531041,\n",
       " 0.18423694,\n",
       " 0.1839735,\n",
       " 0.1844492,\n",
       " 0.18509474,\n",
       " 0.18522483,\n",
       " 0.18478993,\n",
       " 0.18433219,\n",
       " 0.18434131,\n",
       " 0.18470305,\n",
       " 0.18495438,\n",
       " 0.18487068,\n",
       " 0.18462265,\n",
       " 0.18449298,\n",
       " 0.18457997,\n",
       " 0.18474567,\n",
       " 0.18480773,\n",
       " 0.18472755,\n",
       " 0.18461809,\n",
       " 0.18459585,\n",
       " 0.18466264,\n",
       " 0.18473044,\n",
       " 0.1847314,\n",
       " 0.18468034,\n",
       " 0.18464068,\n",
       " 0.18464911,\n",
       " 0.18468595,\n",
       " 0.18470767,\n",
       " 0.18469621,\n",
       " 0.18467079,\n",
       " 0.18466014,\n",
       " 0.18467134,\n",
       " 0.18468808,\n",
       " 0.18469231,\n",
       " 0.18468277,\n",
       " 0.18467225,\n",
       " 0.18467146,\n",
       " 0.18467891,\n",
       " 0.1846852,\n",
       " 0.18468432,\n",
       " 0.18467885,\n",
       " 0.18467534,\n",
       " 0.18467678,\n",
       " 0.18468064,\n",
       " 0.18468246,\n",
       " 0.18468091,\n",
       " 0.18467832,\n",
       " 0.18467757,\n",
       " 0.18467894,\n",
       " 0.18468055,\n",
       " 0.18468079,\n",
       " 0.18467969,\n",
       " 0.1846787,\n",
       " 0.18467876,\n",
       " 0.18467957,\n",
       " 0.18468013,\n",
       " 0.18467997,\n",
       " 0.18467937,\n",
       " 0.18467906,\n",
       " 0.1846793,\n",
       " 0.18467967,\n",
       " 0.1846798,\n",
       " 0.1846796,\n",
       " 0.18467936,\n",
       " 0.18467933,\n",
       " 0.18467951,\n",
       " 0.18467963,\n",
       " 0.1846796,\n",
       " 0.18467951,\n",
       " 0.18467943,\n",
       " 0.18467946,\n",
       " 0.18467954,\n",
       " 0.18467958,\n",
       " 0.18467954,\n",
       " 0.18467948,\n",
       " 0.18467946,\n",
       " 0.18467952,\n",
       " 0.18467952,\n",
       " 0.18467954,\n",
       " 0.18467951,\n",
       " 0.18467948,\n",
       " 0.18467948,\n",
       " 0.18467951,\n",
       " 0.1846795,\n",
       " 0.18467951,\n",
       " 0.18467948,\n",
       " 0.18467948,\n",
       " 0.18467951,\n",
       " 0.1846795,\n",
       " 0.18467948,\n",
       " 0.18467948,\n",
       " 0.18467951,\n",
       " 0.1846795,\n",
       " 0.18467951,\n",
       " 0.18467948,\n",
       " 0.18467951,\n",
       " 0.18467948,\n",
       " 0.18467948,\n",
       " 0.18467951,\n",
       " 0.18467951,\n",
       " 0.18467948,\n",
       " 0.1846795,\n",
       " 0.1846795,\n",
       " 0.18467951,\n",
       " 0.1846795,\n",
       " 0.18467948,\n",
       " 0.18467951,\n",
       " 0.18467951,\n",
       " 0.18467951,\n",
       " 0.1846795,\n",
       " 0.1846795,\n",
       " 0.18467948,\n",
       " 0.1846795,\n",
       " 0.18467951,\n",
       " 0.18467951,\n",
       " 0.18467948,\n",
       " 0.18467951,\n",
       " 0.1846795,\n",
       " 0.18467951,\n",
       " 0.18467948,\n",
       " 0.18467948,\n",
       " 0.18467951,\n",
       " 0.1846795,\n",
       " 0.1846795,\n",
       " 0.18467948,\n",
       " 0.18467951,\n",
       " 0.18467948,\n",
       " 0.18467951,\n",
       " 0.18467948,\n",
       " 0.18467948,\n",
       " 0.1846795,\n",
       " 0.18467951,\n",
       " 0.18467948,\n",
       " 0.18467948,\n",
       " 0.18467948,\n",
       " 0.18467951,\n",
       " 0.18467951,\n",
       " 0.1846795,\n",
       " 0.1846795,\n",
       " 0.18467948,\n",
       " 0.18467951,\n",
       " 0.1846795,\n",
       " 0.18467951,\n",
       " 0.1846795,\n",
       " 0.1846795,\n",
       " 0.18467946,\n",
       " 0.18467951,\n",
       " 0.1846795,\n",
       " 0.18467951,\n",
       " 0.18467948,\n",
       " 0.18467951,\n",
       " 0.1846795,\n",
       " 0.1846795,\n",
       " 0.1846795,\n",
       " 0.18467948,\n",
       " 0.1846795,\n",
       " 0.18467951,\n",
       " 0.18467948,\n",
       " 0.18467948,\n",
       " 0.18467951,\n",
       " 0.18467951,\n",
       " 0.18467948,\n",
       " 0.1846795,\n",
       " 0.18467951,\n",
       " 0.1846795,\n",
       " 0.1846795,\n",
       " 0.18467948,\n",
       " 0.1846795,\n",
       " 0.18467951,\n",
       " 0.18467948,\n",
       " 0.18467948,\n",
       " 0.1846795,\n",
       " 0.18467951,\n",
       " 0.1846795,\n",
       " 0.1846795,\n",
       " 0.1846795,\n",
       " 0.18467951,\n",
       " 0.18467948,\n",
       " 0.18467948,\n",
       " 0.1846795,\n",
       " 0.18467951,\n",
       " 0.18467948,\n",
       " 0.18467951,\n",
       " 0.1846795,\n",
       " 0.1846795,\n",
       " 0.1846795,\n",
       " 0.18467951,\n",
       " 0.18467948,\n",
       " 0.18467948,\n",
       " 0.18467951,\n",
       " 0.18467951,\n",
       " 0.1846795,\n",
       " 0.1846795,\n",
       " 0.1846795,\n",
       " 0.1846795]"
      ]
     },
     "execution_count": 72,
     "metadata": {},
     "output_type": "execute_result"
    }
   ],
   "source": [
    "train_seed"
   ]
  },
  {
   "cell_type": "code",
   "execution_count": 68,
   "metadata": {},
   "outputs": [],
   "source": [
    "n = int(len(test_scaled))\n",
    "results = scaler.inverse_transform(np.array(test_scaled).reshape(n,1))"
   ]
  },
  {
   "cell_type": "code",
   "execution_count": 69,
   "metadata": {
    "scrolled": true
   },
   "outputs": [
    {
     "name": "stderr",
     "output_type": "stream",
     "text": [
      "C:\\Users\\Kumara Fernando\\AppData\\Roaming\\Python\\Python36\\site-packages\\ipykernel_launcher.py:2: SettingWithCopyWarning: \n",
      "A value is trying to be set on a copy of a slice from a DataFrame.\n",
      "Try using .loc[row_indexer,col_indexer] = value instead\n",
      "\n",
      "See the caveats in the documentation: http://pandas.pydata.org/pandas-docs/stable/indexing.html#indexing-view-versus-copy\n",
      "  \n"
     ]
    }
   ],
   "source": [
    "\n",
    "test_set['Generated'] = results"
   ]
  },
  {
   "cell_type": "code",
   "execution_count": 70,
   "metadata": {},
   "outputs": [
    {
     "data": {
      "text/html": [
       "<div>\n",
       "<style scoped>\n",
       "    .dataframe tbody tr th:only-of-type {\n",
       "        vertical-align: middle;\n",
       "    }\n",
       "\n",
       "    .dataframe tbody tr th {\n",
       "        vertical-align: top;\n",
       "    }\n",
       "\n",
       "    .dataframe thead th {\n",
       "        text-align: right;\n",
       "    }\n",
       "</style>\n",
       "<table border=\"1\" class=\"dataframe\">\n",
       "  <thead>\n",
       "    <tr style=\"text-align: right;\">\n",
       "      <th></th>\n",
       "      <th>Net Sales Qty</th>\n",
       "      <th>Generated</th>\n",
       "    </tr>\n",
       "    <tr>\n",
       "      <th>Date</th>\n",
       "      <th></th>\n",
       "      <th></th>\n",
       "    </tr>\n",
       "  </thead>\n",
       "  <tbody>\n",
       "    <tr>\n",
       "      <th>2013-09-18</th>\n",
       "      <td>1157</td>\n",
       "      <td>1157.0</td>\n",
       "    </tr>\n",
       "    <tr>\n",
       "      <th>2013-09-19</th>\n",
       "      <td>666</td>\n",
       "      <td>666.0</td>\n",
       "    </tr>\n",
       "    <tr>\n",
       "      <th>2013-09-20</th>\n",
       "      <td>1982</td>\n",
       "      <td>1982.0</td>\n",
       "    </tr>\n",
       "    <tr>\n",
       "      <th>2013-09-21</th>\n",
       "      <td>2449</td>\n",
       "      <td>2449.0</td>\n",
       "    </tr>\n",
       "    <tr>\n",
       "      <th>2013-09-22</th>\n",
       "      <td>726</td>\n",
       "      <td>726.0</td>\n",
       "    </tr>\n",
       "  </tbody>\n",
       "</table>\n",
       "</div>"
      ],
      "text/plain": [
       "            Net Sales Qty  Generated\n",
       "Date                                \n",
       "2013-09-18           1157     1157.0\n",
       "2013-09-19            666      666.0\n",
       "2013-09-20           1982     1982.0\n",
       "2013-09-21           2449     2449.0\n",
       "2013-09-22            726      726.0"
      ]
     },
     "execution_count": 70,
     "metadata": {},
     "output_type": "execute_result"
    }
   ],
   "source": [
    "test_set.head()"
   ]
  },
  {
   "cell_type": "code",
   "execution_count": 52,
   "metadata": {},
   "outputs": [
    {
     "data": {
      "text/plain": [
       "<matplotlib.axes._subplots.AxesSubplot at 0x1d551ad22e8>"
      ]
     },
     "execution_count": 52,
     "metadata": {},
     "output_type": "execute_result"
    },
    {
     "data": {
      "image/png": "[encoded data removed]",
      "text/plain": [
       "<Figure size 432x288 with 1 Axes>"
      ]
     },
     "metadata": {},
     "output_type": "display_data"
    }
   ],
   "source": [
    "test_set.plot()"
   ]
  },
  {
   "cell_type": "code",
   "execution_count": null,
   "metadata": {},
   "outputs": [],
   "source": []
  }
 ],
 "metadata": {
  "kernelspec": {
   "display_name": "Python 3",
   "language": "python",
   "name": "python3"
  },
  "language_info": {
   "codemirror_mode": {
    "name": "ipython",
    "version": 3
   },
   "file_extension": ".py",
   "mimetype": "text/x-python",
   "name": "python",
   "nbconvert_exporter": "python",
   "pygments_lexer": "ipython3",
   "version": "3.6.5"
  }
 },
 "nbformat": 4,
 "nbformat_minor": 2
}
